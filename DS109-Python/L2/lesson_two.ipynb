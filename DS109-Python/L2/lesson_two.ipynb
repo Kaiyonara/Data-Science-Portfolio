{
 "cells": [
  {
   "cell_type": "code",
   "execution_count": 1,
   "id": "c19cc54a-f4b5-4013-a207-ebb1f72bb564",
   "metadata": {},
   "outputs": [
    {
     "name": "stdout",
     "output_type": "stream",
     "text": [
      "February 3, 1980\n"
     ]
    }
   ],
   "source": [
    "day = \"3\"\n",
    "month = \"February\"\n",
    "year = \"1980\"\n",
    "\n",
    "my_birthday = month + \" \" + day + \", \" + year\n",
    "print(my_birthday)"
   ]
  },
  {
   "cell_type": "code",
   "execution_count": 2,
   "id": "9252551e-b091-49ec-8f5c-90fb39db62d3",
   "metadata": {},
   "outputs": [
    {
     "name": "stdout",
     "output_type": "stream",
     "text": [
      "HAPPY BIRTHDAY TO YOU\n"
     ]
    }
   ],
   "source": [
    "first = \"happy\"\n",
    "second = \"birthday\"\n",
    "third = \"to\"\n",
    "fourth = \"you\"\n",
    "\n",
    "final = first + \" \" + second + \" \" + third + \" \" + fourth\n",
    "print(final.upper())"
   ]
  },
  {
   "cell_type": "code",
   "execution_count": 3,
   "id": "a15b0795-3d9b-4493-9dc4-0fe331e6b080",
   "metadata": {},
   "outputs": [
    {
     "name": "stdout",
     "output_type": "stream",
     "text": [
      "Permitted with anyone over 18\n"
     ]
    }
   ],
   "source": [
    "age = 15\n",
    "\n",
    "if age < 10:\n",
    "    print(\"Not permitted\")\n",
    "elif age < 15:\n",
    "    print(\"Permitted with a parent\")\n",
    "elif age < 18:\n",
    "    print(\"Permitted with anyone over 18\")\n",
    "elif age >= 18:\n",
    "    print(\"Permitted to attend alone\")\n"
   ]
  },
  {
   "cell_type": "code",
   "execution_count": null,
   "id": "dfd2484a-df57-4991-b595-2f0a0ab17bd7",
   "metadata": {},
   "outputs": [],
   "source": []
  }
 ],
 "metadata": {
  "kernelspec": {
   "display_name": "Python 3 (ipykernel)",
   "language": "python",
   "name": "python3"
  },
  "language_info": {
   "codemirror_mode": {
    "name": "ipython",
    "version": 3
   },
   "file_extension": ".py",
   "mimetype": "text/x-python",
   "name": "python",
   "nbconvert_exporter": "python",
   "pygments_lexer": "ipython3",
   "version": "3.10.4"
  }
 },
 "nbformat": 4,
 "nbformat_minor": 5
}
