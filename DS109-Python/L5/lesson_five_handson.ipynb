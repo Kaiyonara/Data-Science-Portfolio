{
 "cells": [
  {
   "cell_type": "code",
   "execution_count": 1,
   "id": "f96e242b-68ad-4fcf-9cb2-7b58d1e61f3e",
   "metadata": {},
   "outputs": [
    {
     "name": "stdout",
     "output_type": "stream",
     "text": [
      "45\n",
      "3000\n",
      "31.666666666666668\n"
     ]
    }
   ],
   "source": [
    "#Kai Bartlette\n",
    "\n",
    "#Create three functions that each accept three parameters.\n",
    "\n",
    "#The first function should be named sum_function and should return the sum of all numbers (add them all together)\n",
    "#The second function should be named product_function and should return the product of all numbers (multiply them all together)\n",
    "#The third function should be named average_function and should return the average of all numbers\n",
    "#HINT: The average is the sum divided by the number of items.\n",
    "\n",
    "#Print out the result of calling each function. For example:\n",
    "\n",
    "#print(sum_function(1, 2, 3))\n",
    "#Should print:\n",
    "\n",
    "#6\n",
    "\n",
    "def sum_function(x, y, z):\n",
    "    \"\"\"This function sums the inputs\"\"\"\n",
    "    return x + y + z\n",
    "\n",
    "result = sum_function(10, 15, 20)\n",
    "print(result)\n",
    "\n",
    "def product_function(x, y, z):\n",
    "    \"\"\"This function multiplies the inputs\"\"\"\n",
    "    return x * y * z\n",
    "\n",
    "result = product_function(10, 15, 20)\n",
    "print(result)\n",
    "\n",
    "def average_function(x, y, z):\n",
    "    \"\"\"This function averages the inputs\"\"\"\n",
    "    return x + y + z / 3\n",
    "\n",
    "result = average_function(10, 15, 20)\n",
    "print(result)\n",
    "\n"
   ]
  },
  {
   "cell_type": "code",
   "execution_count": 2,
   "id": "d4f62221-ad1e-4dde-94d1-49c9f86903c7",
   "metadata": {},
   "outputs": [
    {
     "name": "stdout",
     "output_type": "stream",
     "text": [
      "15\n",
      "120\n",
      "11.0\n"
     ]
    }
   ],
   "source": [
    "#Create three lambda functions that do the same thing as the functions in step 1. Assign each lambda function the following variables:\n",
    "#add_numbers\n",
    "#multiply_numbers\n",
    "#average_numbers\n",
    "#Print and call the above functions.\n",
    "\n",
    "# create lambda function and assign to variable `add_numbers`\n",
    "add_numbers = lambda x, y, z : x + y + z\n",
    "\n",
    "# print the results of calling the lambda function\n",
    "print(add_numbers(4, 5, 6))\n",
    "\n",
    "# create lambda function and assign to variable `add_numbers`\n",
    "multiply_numbers = lambda x, y, z : x * y * z\n",
    "\n",
    "# print the results of calling the lambda function\n",
    "print(multiply_numbers(4, 5, 6))\n",
    "\n",
    "# create lambda function and assign to variable `average_numbers`\n",
    "average_numbers = lambda x, y, z : x + y + z / 3\n",
    "\n",
    "# print the results of calling the lambda function\n",
    "print(average_numbers(4, 5, 6))\n",
    "\n"
   ]
  },
  {
   "cell_type": "code",
   "execution_count": 3,
   "id": "d8ce873b-5345-4b6e-ba9a-39e16acfe511",
   "metadata": {},
   "outputs": [
    {
     "name": "stdout",
     "output_type": "stream",
     "text": [
      "[28.0, 20.0, 65.0, 11.0]\n"
     ]
    }
   ],
   "source": [
    "#Creating three separate lists named the following: list_one, list_two, list_three\n",
    "#Add the following numbers in to their respective lists:\n",
    "#numbers 4, 6, 88, and 24 should go within list_one\n",
    "#numbers 17, 34, 9, and 5 should go within list_two\n",
    "#numbers 63, 20, 98, and 4 should go within list_three\n",
    "\n",
    "#Create one lambda function named average_maker that takes in three numbers and finds the average.\n",
    "#Use map to compute the average of each set of values at each index. This will produce a new list of the four average calculations.\n",
    "#The variable name for this calculation should be map_results\n",
    "#You will be using each of the lists within the map function.\n",
    "#Print out the end result of using map.\n",
    "#Hint! You will need to use list()\n",
    "\n",
    "#The final output should be as shown below:\n",
    "#[28.0, 20.0, 65.0, 11.0]\n",
    "#--------\n",
    "\n",
    "# declare three lists of integers\n",
    "list_one = [4, 6, 88, 24]\n",
    "list_two = [17, 34, 9, 5]\n",
    "list_three = [63, 20, 98, 4]\n",
    "\n",
    "# call `map` with a lambda function that averages three numbers\n",
    "\n",
    "average_maker = map(lambda val_a, val_b, val_c: (val_a + val_b + val_c) / 3, list_one, list_two, list_three)\n",
    "\n",
    "# print results (converting map result to list within print statement)\n",
    "print(list(average_maker))\n",
    "\n",
    "\n",
    "\n"
   ]
  },
  {
   "cell_type": "code",
   "execution_count": null,
   "id": "7366e95f-8485-40ce-9665-463a539482d4",
   "metadata": {},
   "outputs": [],
   "source": []
  }
 ],
 "metadata": {
  "interpreter": {
   "hash": "3bd13bc16400e16874b7ce28af58a129343287e94248a182c1f06fbb6b76ef8e"
  },
  "kernelspec": {
   "display_name": "Python 3.10.4 64-bit",
   "language": "python",
   "name": "python3"
  },
  "language_info": {
   "codemirror_mode": {
    "name": "ipython",
    "version": 3
   },
   "file_extension": ".py",
   "mimetype": "text/x-python",
   "name": "python",
   "nbconvert_exporter": "python",
   "pygments_lexer": "ipython3",
   "version": "3.10.4"
  }
 },
 "nbformat": 4,
 "nbformat_minor": 5
}
