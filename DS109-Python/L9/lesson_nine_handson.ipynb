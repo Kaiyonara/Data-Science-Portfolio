{
 "cells": [
  {
   "cell_type": "markdown",
   "id": "569cd644-26cc-4a2c-bc39-7a82af8eca53",
   "metadata": {},
   "source": [
    "# Arrays and Matrices Hands-On"
   ]
  },
  {
   "cell_type": "markdown",
   "id": "c4203dc0-68b6-4da7-aaa9-79de42c661c0",
   "metadata": {},
   "source": [
    "## Kai Bartlette"
   ]
  },
  {
   "cell_type": "markdown",
   "id": "1c616c8c-ed4b-4ac0-ba07-82154282f3cd",
   "metadata": {},
   "source": [
    "Please complete the following tasks in a Jupyter Notebook file, using the numpy package:\n",
    "\n",
    "Create a five element array using your favorite numbers named myFavorites.\n",
    "\n",
    "Perform each of the five aggregate functions on your array.\n",
    "\n",
    "Create a five element array containing only ones named OneArrayToRuleThemAll.\n",
    "\n",
    "Add myFavorites and OneArrayToRuleThemAll.\n",
    "\n",
    "Multiply every element in myFavorites by two.\n",
    "\n",
    "Call the third element in myFavorites using indexing.\n",
    "\n",
    "Create a four element, two-by-two matrix of numbers named TheMatrixHasYou.\n",
    "\n",
    "Access the upper left element in TheMatrixHasYou using indexing.\n",
    "\n",
    "Find the largest number in each row for TheMatrixHasYou.\n",
    "\n",
    "Reshape TheMatrixHasYou into a matrix with one row and four columns.\n"
   ]
  },
  {
   "cell_type": "code",
   "execution_count": 1,
   "id": "766ee28e-1e40-4b28-af93-d9d48b9d0bc1",
   "metadata": {},
   "outputs": [],
   "source": [
    "import numpy as np"
   ]
  },
  {
   "cell_type": "code",
   "execution_count": 6,
   "id": "f5630bb8-6bbd-4961-9cee-fb26be17f45e",
   "metadata": {},
   "outputs": [
    {
     "data": {
      "text/plain": [
       "101"
      ]
     },
     "execution_count": 6,
     "metadata": {},
     "output_type": "execute_result"
    }
   ],
   "source": [
    "myFavorites = np.array([42, 39, 101, 18, 75])\n",
    "\n",
    "myFavorites.max()"
   ]
  },
  {
   "cell_type": "code",
   "execution_count": 7,
   "id": "16340fb9-268f-4faa-af11-d88f7605d1fc",
   "metadata": {},
   "outputs": [
    {
     "data": {
      "text/plain": [
       "18"
      ]
     },
     "execution_count": 7,
     "metadata": {},
     "output_type": "execute_result"
    }
   ],
   "source": [
    "myFavorites.min()"
   ]
  },
  {
   "cell_type": "code",
   "execution_count": 8,
   "id": "6856d1b6-d9b1-490f-9091-efe84b45ad69",
   "metadata": {},
   "outputs": [
    {
     "data": {
      "text/plain": [
       "55.0"
      ]
     },
     "execution_count": 8,
     "metadata": {},
     "output_type": "execute_result"
    }
   ],
   "source": [
    "myFavorites.mean()"
   ]
  },
  {
   "cell_type": "code",
   "execution_count": 9,
   "id": "056170a9-2c55-4f2f-81b1-b35bc07be56a",
   "metadata": {},
   "outputs": [
    {
     "data": {
      "text/plain": [
       "29.359836511806396"
      ]
     },
     "execution_count": 9,
     "metadata": {},
     "output_type": "execute_result"
    }
   ],
   "source": [
    "myFavorites.std()"
   ]
  },
  {
   "cell_type": "code",
   "execution_count": 10,
   "id": "acb9f028-14f8-4661-af83-bc312f1145a8",
   "metadata": {},
   "outputs": [
    {
     "data": {
      "text/plain": [
       "275"
      ]
     },
     "execution_count": 10,
     "metadata": {},
     "output_type": "execute_result"
    }
   ],
   "source": [
    "myFavorites.sum()"
   ]
  },
  {
   "cell_type": "code",
   "execution_count": 13,
   "id": "85808a4c-0bd8-4e2d-b118-9767cb93d170",
   "metadata": {},
   "outputs": [],
   "source": [
    "OneArrayToRuleThemAll = np.ones(5)"
   ]
  },
  {
   "cell_type": "code",
   "execution_count": 14,
   "id": "64cc11b0-6cfb-4c98-8990-b426e325aa27",
   "metadata": {},
   "outputs": [
    {
     "data": {
      "text/plain": [
       "array([ 43.,  40., 102.,  19.,  76.])"
      ]
     },
     "execution_count": 14,
     "metadata": {},
     "output_type": "execute_result"
    }
   ],
   "source": [
    "myFavorites + OneArrayToRuleThemAll"
   ]
  },
  {
   "cell_type": "code",
   "execution_count": 15,
   "id": "bd6a6737-b31c-44b4-9304-65f5d30463a3",
   "metadata": {},
   "outputs": [
    {
     "data": {
      "text/plain": [
       "array([ 84,  78, 202,  36, 150])"
      ]
     },
     "execution_count": 15,
     "metadata": {},
     "output_type": "execute_result"
    }
   ],
   "source": [
    "myFavorites * 2"
   ]
  },
  {
   "cell_type": "code",
   "execution_count": 16,
   "id": "26611879-7aec-4a7c-9e5a-bb7697498bf1",
   "metadata": {},
   "outputs": [
    {
     "data": {
      "text/plain": [
       "101"
      ]
     },
     "execution_count": 16,
     "metadata": {},
     "output_type": "execute_result"
    }
   ],
   "source": [
    "myFavorites[2]"
   ]
  },
  {
   "cell_type": "code",
   "execution_count": 20,
   "id": "294f308f-a911-47c4-9386-f5435a9b2edb",
   "metadata": {},
   "outputs": [],
   "source": [
    "TheMatrixHasYou = np.array([[1,2,3,4],[5,6,7,8]])"
   ]
  },
  {
   "cell_type": "code",
   "execution_count": 21,
   "id": "5a73e69a-da00-47ae-86de-ec5a800e8097",
   "metadata": {},
   "outputs": [
    {
     "data": {
      "text/plain": [
       "array([[1, 2, 3, 4],\n",
       "       [5, 6, 7, 8]])"
      ]
     },
     "execution_count": 21,
     "metadata": {},
     "output_type": "execute_result"
    }
   ],
   "source": [
    "TheMatrixHasYou"
   ]
  },
  {
   "cell_type": "code",
   "execution_count": 22,
   "id": "fea904be-ea8d-44c0-9ede-7fcf40ea6d81",
   "metadata": {},
   "outputs": [
    {
     "data": {
      "text/plain": [
       "1"
      ]
     },
     "execution_count": 22,
     "metadata": {},
     "output_type": "execute_result"
    }
   ],
   "source": [
    "TheMatrixHasYou[0,0]"
   ]
  },
  {
   "cell_type": "code",
   "execution_count": 23,
   "id": "97d86661-3711-450b-818b-4721c150a677",
   "metadata": {},
   "outputs": [
    {
     "data": {
      "text/plain": [
       "array([4, 8])"
      ]
     },
     "execution_count": 23,
     "metadata": {},
     "output_type": "execute_result"
    }
   ],
   "source": [
    "TheMatrixHasYou.max(axis=1)"
   ]
  },
  {
   "cell_type": "code",
   "execution_count": 24,
   "id": "decdd2a3-c49c-4606-b870-5b41c3f45fa0",
   "metadata": {},
   "outputs": [
    {
     "ename": "ValueError",
     "evalue": "cannot reshape array of size 8 into shape (1,4)",
     "output_type": "error",
     "traceback": [
      "\u001b[1;31m---------------------------------------------------------------------------\u001b[0m",
      "\u001b[1;31mValueError\u001b[0m                                Traceback (most recent call last)",
      "Input \u001b[1;32mIn [24]\u001b[0m, in \u001b[0;36m<cell line: 1>\u001b[1;34m()\u001b[0m\n\u001b[1;32m----> 1\u001b[0m \u001b[43mTheMatrixHasYou\u001b[49m\u001b[38;5;241;43m.\u001b[39;49m\u001b[43mreshape\u001b[49m\u001b[43m(\u001b[49m\u001b[38;5;241;43m1\u001b[39;49m\u001b[43m,\u001b[49m\u001b[38;5;241;43m4\u001b[39;49m\u001b[43m)\u001b[49m\n",
      "\u001b[1;31mValueError\u001b[0m: cannot reshape array of size 8 into shape (1,4)"
     ]
    }
   ],
   "source": [
    "TheMatrixHasYou.reshape(1,4)"
   ]
  },
  {
   "cell_type": "code",
   "execution_count": null,
   "id": "3f827938-68d4-4c00-b33c-bac6ee31aa06",
   "metadata": {},
   "outputs": [],
   "source": [
    "TheMatrixHasYou cannot be reshaped into an array with only one row and four columns; it must be divisible by 8."
   ]
  }
 ],
 "metadata": {
  "kernelspec": {
   "display_name": "Python 3 (ipykernel)",
   "language": "python",
   "name": "python3"
  },
  "language_info": {
   "codemirror_mode": {
    "name": "ipython",
    "version": 3
   },
   "file_extension": ".py",
   "mimetype": "text/x-python",
   "name": "python",
   "nbconvert_exporter": "python",
   "pygments_lexer": "ipython3",
   "version": "3.10.4"
  }
 },
 "nbformat": 4,
 "nbformat_minor": 5
}
