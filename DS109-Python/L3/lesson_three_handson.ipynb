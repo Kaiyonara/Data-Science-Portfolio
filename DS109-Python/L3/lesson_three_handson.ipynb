{
 "cells": [
  {
   "cell_type": "code",
   "execution_count": 3,
   "id": "10cb98bf-1589-4776-bacf-45ffa820023a",
   "metadata": {},
   "outputs": [
    {
     "name": "stdout",
     "output_type": "stream",
     "text": [
      "Where is Kurt today?\n",
      "Where is David today?\n",
      "Where is Katherine today?\n"
     ]
    }
   ],
   "source": [
    "#Kai Bartlette\n",
    "#\n",
    "#Create a list of the following first names: Kurt, David, Katherine.\n",
    "#The variable name for the above list should be list_of_names.\n",
    "#Use a for loop to loop through each name in the list and print the following question: \n",
    "#Where is _____ today?\n",
    "#Each name should replace the blank within the question.\n",
    "#The output should look like the following:\n",
    "#Where is Kurt today?\n",
    "#Where is David today?\n",
    "#Where is Katherine today?\n",
    "\n",
    "names = ['Kurt', 'David', 'Katherine']\n",
    "\n",
    "for name in names:\n",
    "    print('Where is ' + name + ' today?')\n",
    "    \n",
    "\n",
    "\n",
    "\n",
    "\n",
    "\n",
    "\n",
    "\n",
    "\n",
    "\n"
   ]
  },
  {
   "cell_type": "code",
   "execution_count": 4,
   "id": "9633628b-0307-42fc-9e79-3870fc3a88fd",
   "metadata": {},
   "outputs": [
    {
     "name": "stdout",
     "output_type": "stream",
     "text": [
      "Volvo XC90\n",
      "Honda Accord\n",
      "Zinnia\n",
      "Orchid\n",
      "Swan\n",
      "Duck\n"
     ]
    }
   ],
   "source": [
    "#Create three separate lists with the following variable names: \n",
    "#my_favorite_cars, my_favorite_flowers, my_favorite_animals\n",
    "#my_favorite_cars should include 3 different cars\n",
    "#my_favorite_flowers should include 4 different flowers\n",
    "#my_favorite_animals should include 5 different animals\n",
    "#Concatenate the above three lists into a single list named my_favorite_things.\n",
    "#Use a for loop to iterate over each element of the my_favorite_things combined list. \n",
    "#Print out each item with an even length.\n",
    "#The output should show only items in the my_favorite_things list that have an even number \n",
    "#of letters.\n",
    "\n",
    "my_favorite_cars = ('Tesla Model Y', 'Volvo XC90', 'Honda Accord')\n",
    "my_favorite_flowers = ('Hydrangea', 'Tulip', 'Zinnia', 'Orchid')\n",
    "my_favorite_animals = ('Tiger', 'Horse', 'Dog', 'Swan', 'Duck')\n",
    "\n",
    "my_favorite_things = my_favorite_cars + my_favorite_flowers + my_favorite_animals\n",
    "\n",
    "for thing in my_favorite_things:\n",
    "    if len(thing) % 2 == 0:\n",
    "        print(thing)\n",
    "\n"
   ]
  },
  {
   "cell_type": "code",
   "execution_count": 5,
   "id": "d71a68eb-cff6-488b-b3b0-7870b2f65482",
   "metadata": {},
   "outputs": [
    {
     "name": "stdout",
     "output_type": "stream",
     "text": [
      "1\n",
      "2\n",
      "Zip\n",
      "4\n",
      "Zap\n",
      "Zip\n",
      "7\n",
      "8\n",
      "Zip\n",
      "Zap\n",
      "11\n",
      "Zip\n",
      "13\n",
      "14\n",
      "ZipZap\n",
      "16\n",
      "17\n",
      "Zip\n",
      "19\n",
      "Zap\n"
     ]
    }
   ],
   "source": [
    "number_range = [1, 2, 3, 4, 5, 6, 7, 8, 9, 10, 11, 12, 13, 14, 15, 16, 17, 18, 19, 20]\n",
    "\n",
    "for number in number_range:\n",
    "    if number % 3 == 0 and number % 5 == 0:\n",
    "        print('ZipZap')\n",
    "    elif number % 3 == 0:\n",
    "        print('Zip')\n",
    "    elif number % 5 == 0:\n",
    "        print('Zap')\n",
    "    else:\n",
    "        print(number)"
   ]
  },
  {
   "cell_type": "code",
   "execution_count": null,
   "id": "da3aa57d-e1ad-4202-87ed-791f84cbd43a",
   "metadata": {},
   "outputs": [],
   "source": []
  }
 ],
 "metadata": {
  "kernelspec": {
   "display_name": "Python 3 (ipykernel)",
   "language": "python",
   "name": "python3"
  },
  "language_info": {
   "codemirror_mode": {
    "name": "ipython",
    "version": 3
   },
   "file_extension": ".py",
   "mimetype": "text/x-python",
   "name": "python",
   "nbconvert_exporter": "python",
   "pygments_lexer": "ipython3",
   "version": "3.10.4"
  }
 },
 "nbformat": 4,
 "nbformat_minor": 5
}
