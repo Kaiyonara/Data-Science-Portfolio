{
 "cells": [
  {
   "cell_type": "code",
   "execution_count": 2,
   "id": "1fcd7e13-0c76-4911-bb2f-4b9efdcd4ca7",
   "metadata": {},
   "outputs": [
    {
     "name": "stdout",
     "output_type": "stream",
     "text": [
      "Type :  Cat\n",
      "Color :  White and Orange\n",
      "Nickname :  Birchy\n",
      "Owner :  Kurt\n",
      "Type :  Cat\n",
      "Color :  Tortoise Shell\n",
      "Nickname :  Palnut\n",
      "Owner :  Olivia\n"
     ]
    }
   ],
   "source": [
    "#Kai  Bartlette\n",
    "\n",
    "\n",
    "#Create two dictionaries to represent information about two pets. Each dictionary should contain the following information (different for each pet):\n",
    "\n",
    "#Pet's Name (This should be the name of your dictionary)\n",
    "#Type of Pet\n",
    "#Color\n",
    "#Nickname\n",
    "#Owner's Name\n",
    "#Iterate over each dictionary, printing each key-value pair on one line. The output should be similar to the below:\n",
    "\n",
    "#Type: Cat\n",
    "#Color: White and Orange\n",
    "#Nickname: Birchy\n",
    "#Owner: Kurt\n",
    "#Type: Cat\n",
    "#Color: Tortoise Shell\n",
    "#Nickname: Palnut\n",
    "#Owner: Olivia\n",
    "\n",
    "pet_0 = {'type': 'Cat', 'color': 'White and Orange', 'nickname': 'Birchy', 'owner': 'Kurt'}\n",
    "        \n",
    "pet_1 = {'type': 'Cat', 'color': 'Tortoise Shell', 'nickname': 'Palnut', 'owner': 'Olivia'}\n",
    "\n",
    "pets_name = [pet_0, pet_1]\n",
    "\n",
    "for pet in pets_name:\n",
    "    print(\"Type : \", pet.get('type'))\n",
    "    print(\"Color : \", pet.get('color'))\n",
    "    print(\"Nickname : \", pet.get('nickname'))\n",
    "    print(\"Owner : \", pet.get('owner'))\n",
    "\n",
    "#    print(pet)"
   ]
  },
  {
   "cell_type": "code",
   "execution_count": 18,
   "id": "85d4813b-320f-42a9-8ff2-6780e6e19d81",
   "metadata": {},
   "outputs": [
    {
     "name": "stdout",
     "output_type": "stream",
     "text": [
      "{'Capital': 'London', 'population': '53.01 million', 'Interesting Fact': ' ', 'Top Language Spoken by Locals': ' '}\n",
      "{'Capital': 'Paris', 'population': '66.9 million', 'Interesting Fact': ' ', 'Top Language Spoken by Locals': ' '}\n",
      "{'Capital': 'Brussels', 'population': '11.35 million', 'Interesting Fact': ' ', 'Top Language Spoken by Locals': ' '}\n"
     ]
    }
   ],
   "source": [
    "#Add three new dictionaries to your program.\n",
    "#Each dictionary should represent a city around the world.\n",
    "#Add the below dictionaries to your main.py file:\n",
    "\n",
    "#england = {'Capital': 'London'}\n",
    "#france = {'Capital': 'Paris'}\n",
    "#belgium = {'Capital': 'Brussels'}\n",
    "\n",
    "#Given the above dictionaries, add the following information to each dictionary:\n",
    "\n",
    "#The population of England is 53.01 million\n",
    "#The population of France is 66.9 million\n",
    "#The population of Belgium is 11.35 million\n",
    "\n",
    "#Interesting Fact\n",
    "\n",
    "#Top Language Spoken by Locals\n",
    "\n",
    "#Once you have added the necessary information into the dictionaries, loop through each one and print out all key-value pairs.\n",
    "\n",
    "england = {'Capital': 'London'}\n",
    "france = {'Capital': 'Paris'}\n",
    "belgium = {'Capital': 'Brussels'}\n",
    "\n",
    "england['population'] = '53.01 million'\n",
    "france['population'] = '66.9 million'\n",
    "belgium['population'] = '11.35 million'\n",
    "\n",
    "england['Interesting Fact'] = ' '\n",
    "france['Interesting Fact'] = ' '\n",
    "belgium['Interesting Fact'] = ' '\n",
    "\n",
    "england['Top Language Spoken by Locals'] = ' '\n",
    "france['Top Language Spoken by Locals'] = ' '\n",
    "belgium['Top Language Spoken by Locals'] = ' '\n",
    "\n",
    "countries = [england, france, belgium]\n",
    "\n",
    "for country in countries:\n",
    "    print(country)\n",
    "\n",
    "\n"
   ]
  },
  {
   "cell_type": "code",
   "execution_count": 29,
   "id": "56ce52d8-3626-454f-8e7e-0b266f9180f7",
   "metadata": {},
   "outputs": [
    {
     "name": "stdout",
     "output_type": "stream",
     "text": [
      "Thank you for your order, Marie Wilkins\n",
      "You have ordered a large, thin-crust pizza with the following toppings:\n",
      "anchovies, pepperoni, peppers\n"
     ]
    }
   ],
   "source": [
    "#Add a dictionary to your program that replicates a user's pizza order. \n",
    "#Name this dictionary pizza_order and it should contain the following:\n",
    "#Customer's Name\n",
    "#What size pizza they have ordered\n",
    "#What type of crust\n",
    "#What toppings they would like.\n",
    "#Toppings should include at least three separate toppings\n",
    "#Next, print out the customer's order:\n",
    "#Thank them for their order using their name\n",
    "#Print out what they're ordering\n",
    "#Print out the list of toppings (minimum 3)\n",
    "#Your output should looks similar to the following:\n",
    "#Thank you for your order, Andrew\n",
    "#You have ordered a small, thin-crust pizza with the following toppings:\n",
    "#extra cheese, sausage, bacon\n",
    "#Use the print() and get() functions\n",
    "\n",
    "\n",
    "pizza_order = {'c_name' : 'Marie Wilkins',\n",
    "               'size_pizza' : 'large',\n",
    "               'crust_type' : 'thin-crust',\n",
    "               'topping1' : 'anchovies',\n",
    "               'topping2' : 'pepperoni',\n",
    "               'topping3' : 'peppers'}\n",
    "\n",
    "print(\"Thank you for your order, \" +  pizza_order.get('c_name'))\n",
    "print(\"You have ordered a \" +  pizza_order.get('size_pizza') + \", \" + pizza_order.get('crust_type') + \" pizza \" + \"with the following toppings:\")\n",
    "print(pizza_order.get('topping1') + \", \" + pizza_order.get('topping2') + \", \" + pizza_order.get('topping3'))\n",
    "\n"
   ]
  },
  {
   "cell_type": "code",
   "execution_count": null,
   "id": "88036d09-d2aa-44e5-ad8a-cd37c3a5f9eb",
   "metadata": {},
   "outputs": [],
   "source": []
  }
 ],
 "metadata": {
  "kernelspec": {
   "display_name": "Python 3 (ipykernel)",
   "language": "python",
   "name": "python3"
  },
  "language_info": {
   "codemirror_mode": {
    "name": "ipython",
    "version": 3
   },
   "file_extension": ".py",
   "mimetype": "text/x-python",
   "name": "python",
   "nbconvert_exporter": "python",
   "pygments_lexer": "ipython3",
   "version": "3.10.4"
  }
 },
 "nbformat": 4,
 "nbformat_minor": 5
}
