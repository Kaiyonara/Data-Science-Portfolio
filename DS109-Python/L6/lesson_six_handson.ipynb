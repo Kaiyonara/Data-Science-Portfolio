{
 "cells": [
  {
   "cell_type": "code",
   "execution_count": 23,
   "id": "799fdd34-2e24-4f9d-b8ff-13700bfd54d8",
   "metadata": {},
   "outputs": [],
   "source": [
    "#Kai Bartlette\n",
    "\n",
    "#Create a class named Stadium\n",
    "#Use the init method to include the following three properties:\n",
    "#name\n",
    "#city_state\n",
    "#capacity\n",
    "#Hint! What is the property that is included in every method? Don't forget that one!\n",
    "\n",
    "#Initialize each property/attribute within the init method\n",
    "#Include a docString for the class and method\n",
    "#Create another method within the Stadium class named describe_stadium\n",
    "#The describe_stadium method should utilize each method from the Stadium class which will then print a description of the arena (see step 10 for an example of a description)\n",
    "#Create a new instance of the Stadium class named stadium1\n",
    "#The stadium1 instance should provide values for each of the three properties of the Stadium class\n",
    "#Finally, stadium1 should call the describe_stadium method.\n",
    "#The output should be similar to the following:\n",
    "\n",
    "\n",
    "#The Mercedes Benz Arena is located in Atlanta, GA and holds 70,000 fans.\n"
   ]
  },
  {
   "cell_type": "code",
   "execution_count": 19,
   "id": "971252ee-45b7-48e0-b7d1-ef40a5abffd9",
   "metadata": {},
   "outputs": [
    {
     "ename": "AttributeError",
     "evalue": "'Stadium' object has no attribute 'name'",
     "output_type": "error",
     "traceback": [
      "\u001b[1;31m---------------------------------------------------------------------------\u001b[0m",
      "\u001b[1;31mAttributeError\u001b[0m                            Traceback (most recent call last)",
      "Input \u001b[1;32mIn [19]\u001b[0m, in \u001b[0;36m<cell line: 1>\u001b[1;34m()\u001b[0m\n\u001b[1;32m----> 1\u001b[0m \u001b[38;5;28;01mclass\u001b[39;00m \u001b[38;5;21;01mStadium\u001b[39;00m:\n\u001b[0;32m      2\u001b[0m     \u001b[38;5;124;03m\"\"\"This class prints a description of the arena.\"\"\"\u001b[39;00m\n\u001b[0;32m      3\u001b[0m     \u001b[38;5;28;01mdef\u001b[39;00m \u001b[38;5;21m__init__\u001b[39m(\u001b[38;5;28mself\u001b[39m, name, city_state, capacity):\n",
      "Input \u001b[1;32mIn [19]\u001b[0m, in \u001b[0;36mStadium\u001b[1;34m()\u001b[0m\n\u001b[0;32m     10\u001b[0m     \u001b[38;5;124;03m\"\"\"Instance method to describe the stadium\"\"\"\u001b[39;00m\n\u001b[0;32m     11\u001b[0m     \u001b[38;5;28mprint\u001b[39m(\u001b[38;5;124m\"\u001b[39m\u001b[38;5;124mThe \u001b[39m\u001b[38;5;124m\"\u001b[39m \u001b[38;5;241m+\u001b[39m \u001b[38;5;28mself\u001b[39m\u001b[38;5;241m.\u001b[39mname \u001b[38;5;241m+\u001b[39m \u001b[38;5;124m\"\u001b[39m\u001b[38;5;124m is located in \u001b[39m\u001b[38;5;124m\"\u001b[39m \u001b[38;5;241m+\u001b[39m \u001b[38;5;28mself\u001b[39m\u001b[38;5;241m.\u001b[39mcity_state \u001b[38;5;241m+\u001b[39m \u001b[38;5;124m\"\u001b[39m\u001b[38;5;124m and holds \u001b[39m\u001b[38;5;124m\"\u001b[39m \u001b[38;5;241m+\u001b[39m \u001b[38;5;28mself\u001b[39m\u001b[38;5;241m.\u001b[39mcapacity \u001b[38;5;241m+\u001b[39m \u001b[38;5;124m\"\u001b[39m\u001b[38;5;124m fans.\u001b[39m\u001b[38;5;124m\"\u001b[39m)\n\u001b[1;32m---> 13\u001b[0m stadium1 \u001b[38;5;241m=\u001b[39m \u001b[43mStadium\u001b[49m\u001b[43m(\u001b[49m\u001b[38;5;124;43m\"\u001b[39;49m\u001b[38;5;124;43mMercedes Benz Arena\u001b[39;49m\u001b[38;5;124;43m\"\u001b[39;49m\u001b[43m,\u001b[49m\u001b[43m \u001b[49m\u001b[38;5;124;43m\"\u001b[39;49m\u001b[38;5;124;43mAtlanta, GA\u001b[39;49m\u001b[38;5;124;43m\"\u001b[39;49m\u001b[43m,\u001b[49m\u001b[43m \u001b[49m\u001b[38;5;124;43m\"\u001b[39;49m\u001b[38;5;124;43m70,000\u001b[39;49m\u001b[38;5;124;43m\"\u001b[39;49m\u001b[43m)\u001b[49m\n\u001b[0;32m     15\u001b[0m stadium1\u001b[38;5;241m.\u001b[39mdescribe_stadium()\n",
      "Input \u001b[1;32mIn [12]\u001b[0m, in \u001b[0;36mStadium.__init__\u001b[1;34m(self, name, city_state, capacity)\u001b[0m\n\u001b[0;32m     23\u001b[0m \u001b[38;5;28;01mdef\u001b[39;00m \u001b[38;5;21m__init__\u001b[39m(\u001b[38;5;28mself\u001b[39m, name, city_state, capacity):\n\u001b[1;32m---> 24\u001b[0m     name \u001b[38;5;241m=\u001b[39m \u001b[38;5;28;43mself\u001b[39;49m\u001b[38;5;241;43m.\u001b[39;49m\u001b[43mname\u001b[49m\n\u001b[0;32m     25\u001b[0m     city_state \u001b[38;5;241m=\u001b[39m \u001b[38;5;28mself\u001b[39m\u001b[38;5;241m.\u001b[39mcity_state\n\u001b[0;32m     26\u001b[0m     capacity \u001b[38;5;241m=\u001b[39m \u001b[38;5;28mself\u001b[39m\u001b[38;5;241m.\u001b[39mcapacity\n",
      "\u001b[1;31mAttributeError\u001b[0m: 'Stadium' object has no attribute 'name'"
     ]
    }
   ],
   "source": []
  },
  {
   "cell_type": "code",
   "execution_count": 33,
   "id": "2333c0be-8d20-43cb-a4a0-4b8b28efedfb",
   "metadata": {},
   "outputs": [],
   "source": [
    "class Stadium:\n",
    "    \"\"\"This class prints a description of the arena.\"\"\"\n",
    "    def __init__(self, name, city_state, capacity):\n",
    "        \n",
    "        self.name = name\n",
    "        self.city_state = city_state\n",
    "        self.capacity = capacity\n",
    "        self.sport_played = sport_played\n",
    "        self.seats_available = seats_available\n",
    "        \n",
    "    def describe_stadium(self):\n",
    "        print(\"The\", self.name, \" is located in\", self.city_state, \" and holds\", self.capacity, \" fans.\")\n",
    "        \n",
    "    def second_stadium_description(self):\n",
    "        print(\"The following sport is mainly played in this stadium: \", self.sport_played, \" .\")\n",
    "        \n",
    "    def third_stadium_description(self):\n",
    "        print(\"There are \", self.seats_available, \"still available for tonight's game.\")\n",
    "        \n",
    "        stadium1 = Stadium(\"Mercedes Benz Area\", \"Atlanta, GA\", \"70,000\", \"Football\", \"15,000\")\n",
    "        stadium1.describe_stadium()\n",
    "        stadium1.second_stadium_description()\n",
    "        stadium1.third_stadium_description()"
   ]
  },
  {
   "cell_type": "code",
   "execution_count": null,
   "id": "9240611c-71fe-444c-b375-ae3e577e83e8",
   "metadata": {},
   "outputs": [],
   "source": [
    "#Hi! I reviewed this code with Jillian and couldn't figure out why I got the above error messages. It seems to resemble the solution code almost identically."
   ]
  }
 ],
 "metadata": {
  "kernelspec": {
   "display_name": "Python 3 (ipykernel)",
   "language": "python",
   "name": "python3"
  },
  "language_info": {
   "codemirror_mode": {
    "name": "ipython",
    "version": 3
   },
   "file_extension": ".py",
   "mimetype": "text/x-python",
   "name": "python",
   "nbconvert_exporter": "python",
   "pygments_lexer": "ipython3",
   "version": "3.10.4"
  }
 },
 "nbformat": 4,
 "nbformat_minor": 5
}
